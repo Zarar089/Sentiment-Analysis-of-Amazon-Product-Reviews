{
  "nbformat": 4,
  "nbformat_minor": 0,
  "metadata": {
    "colab": {
      "name": "Sentiment Analysis of Amazon Product Reviews",
      "provenance": [],
      "collapsed_sections": [],
      "include_colab_link": true
    },
    "kernelspec": {
      "name": "python3",
      "display_name": "Python 3"
    },
    "accelerator": "GPU"
  },
  "cells": [
    {
      "cell_type": "markdown",
      "metadata": {
        "id": "view-in-github",
        "colab_type": "text"
      },
      "source": [
        "<a href=\"https://colab.research.google.com/github/cruciatus89/Sentiment-Analysis-of-Amazon-Product-Reviews/blob/main/Sentiment_Analysis_of_Amazon_Product_Reviews.ipynb\" target=\"_parent\"><img src=\"https://colab.research.google.com/assets/colab-badge.svg\" alt=\"Open In Colab\"/></a>"
      ]
    },
    {
      "cell_type": "code",
      "metadata": {
        "id": "SOHPnUk8PzPI"
      },
      "source": [
        "!pip install pyprind\n",
        "import torch\n",
        "import pandas as pd\n",
        "from sklearn.model_selection import train_test_split\n",
        "import nltk\n",
        "nltk.download('punkt')\n",
        "from torchtext import data\n",
        "import torchtext\n",
        "import torch.nn.functional as F\n",
        "import torch.nn as nn\n",
        "import pyprind\n",
        "#%matplotlib inline  \n",
        "import time\n",
        "import matplotlib.pyplot as plt\n",
        "import numpy as np\n",
        "from sklearn.metrics import accuracy_score,precision_score,recall_score,f1_score"
      ],
      "execution_count": null,
      "outputs": []
    },
    {
      "cell_type": "code",
      "metadata": {
        "id": "O8D71x8eNW-O"
      },
      "source": [
        "is_cuda = torch.cuda.is_available()\n",
        "print(\"Cuda Status on system is {}\".format(is_cuda))\n",
        "print(torch.cuda.get_device_name())"
      ],
      "execution_count": null,
      "outputs": []
    },
    {
      "cell_type": "code",
      "metadata": {
        "id": "Z4VAg5nUrUIX",
        "outputId": "3771d3ce-9cc3-4fd8-9f7a-d38e241e9f55",
        "colab": {
          "base_uri": "https://localhost:8080/",
          "height": 34
        }
      },
      "source": [
        "from google.colab import drive\n",
        "drive.mount('/content/drive')"
      ],
      "execution_count": null,
      "outputs": [
        {
          "output_type": "stream",
          "text": [
            "Mounted at /content/drive\n"
          ],
          "name": "stdout"
        }
      ]
    },
    {
      "cell_type": "markdown",
      "metadata": {
        "id": "Fg2bM8DbRy2E"
      },
      "source": [
        "Preparation  of Dataset\n"
      ]
    },
    {
      "cell_type": "code",
      "metadata": {
        "id": "VnUcPHZWR6Iy"
      },
      "source": [
        "train_df = pd.read_csv(\"/content/drive/My Drive/amazon_review_train_data_fixed.csv\")\n",
        "train_df=train_df[:int(train_df.shape[0]/10)]\n",
        "test_df = pd.read_csv(\"/content/drive/My Drive/amazon_review_test_data_fixed.csv\")\n",
        "test_df=test_df[:int(test_df.shape[0]/10)]\n",
        "print(train_df.shape)\n",
        "print(test_df.shape)\n",
        "train_df=train_df.dropna()\n",
        "test_df=test_df.dropna()\n",
        "print(train_df.shape)\n",
        "print(test_df.shape)\n",
        "X=train_df['Review_text']\n",
        "y=train_df['numeric_label']\n"
      ],
      "execution_count": null,
      "outputs": []
    },
    {
      "cell_type": "code",
      "metadata": {
        "id": "0KDe6zPauJHg"
      },
      "source": [
        "dummy_text = \"Review of Transformers:Dark of the Moon: This is an enjoyable science fiction actioner, with a fairly plausible plot for this type movie. It also has excellent acting, both the live actors and the voice acting for the Transformer robots. Only beef is that it's language makes it inappropriate for tweens and pre-teens. Overall, excellent for adults and recommended.\"\n",
        "dummy_label= \"2\""
      ],
      "execution_count": null,
      "outputs": []
    },
    {
      "cell_type": "markdown",
      "metadata": {
        "id": "y0KeT0lYVLY3"
      },
      "source": [
        "Splitting the Test Train Dataset"
      ]
    },
    {
      "cell_type": "code",
      "metadata": {
        "id": "E9gsleHjSigB"
      },
      "source": [
        "#X_train, X_test, y_train, y_test = train_test_split(X, y, test_size=0.20, random_state=42)\n",
        "X_train,X_valid,y_train,y_valid=train_test_split(X, y, test_size=0.20, random_state=42)\n",
        "\n",
        "print(f'Size of Train set {X_train.shape}\\nSize of Test set {test_df.shape}\\nSize of valid set {X_valid.shape}\\n')"
      ],
      "execution_count": null,
      "outputs": []
    },
    {
      "cell_type": "code",
      "metadata": {
        "id": "hNs9NzqOdI48"
      },
      "source": [
        "train = pd.concat([X_train, y_train], axis=1)\n",
        "print(train.shape)\n",
        "\n",
        "valid = pd.concat([X_valid, y_valid], axis=1)\n",
        "print(valid.shape)"
      ],
      "execution_count": null,
      "outputs": []
    },
    {
      "cell_type": "code",
      "metadata": {
        "id": "6FRJTWrguFVu"
      },
      "source": [
        "train.to_csv(\"/content/drive/My Drive/train.csv\", index=False)\n",
        "test_df.to_csv(\"/content/drive/My Drive/test.csv\", index=False)\n",
        "valid.to_csv(\"/content/drive/My Drive/valid.csv\", index=False)"
      ],
      "execution_count": null,
      "outputs": []
    },
    {
      "cell_type": "code",
      "metadata": {
        "id": "XSNYdimrvS4t"
      },
      "source": [
        "del train_df,train, test_df, valid, X_train, y_train,X_valid,y_valid"
      ],
      "execution_count": null,
      "outputs": []
    },
    {
      "cell_type": "markdown",
      "metadata": {
        "id": "8u_FG05davsD"
      },
      "source": [
        "Tokenizing Dataset and using Pytorchtext\n"
      ]
    },
    {
      "cell_type": "code",
      "metadata": {
        "id": "ckuEDBgcWb-f"
      },
      "source": [
        "def tokenizer(text):\n",
        "    return [tok for tok in nltk.word_tokenize(text)]"
      ],
      "execution_count": null,
      "outputs": []
    },
    {
      "cell_type": "code",
      "metadata": {
        "id": "KlDbfcGJbdGb"
      },
      "source": [
        "TEXT = data.Field(sequential=True, tokenize=tokenizer,include_lengths = True)\n",
        "LABEL = data.LabelField(dtype=torch.float, sequential=False)"
      ],
      "execution_count": null,
      "outputs": []
    },
    {
      "cell_type": "code",
      "metadata": {
        "id": "SREbLYoYbqBI"
      },
      "source": [
        "train_data, valid_data, test_data = data.TabularDataset.splits(\n",
        "    path=\"/content/drive/My Drive/\", train=\"train.csv\", \n",
        "    validation=\"valid.csv\", test=\"test.csv\",format=\"csv\", skip_header=True, \n",
        "    fields=[('Review_text', TEXT), ('numeric_Label', LABEL)]\n",
        ")"
      ],
      "execution_count": null,
      "outputs": []
    },
    {
      "cell_type": "code",
      "metadata": {
        "id": "-V_qsNSleqbD"
      },
      "source": [
        "TEXT.build_vocab(train_data, vectors=torchtext.vocab.Vectors(\"/content/drive/My Drive/glove.840B.300d.txt\"), \n",
        "                 max_size=50000)\n",
        "LABEL.build_vocab(train_data)"
      ],
      "execution_count": null,
      "outputs": []
    },
    {
      "cell_type": "code",
      "metadata": {
        "id": "kcgNR4crcItj"
      },
      "source": [
        "# Hyperparameters\n",
        "num_epochs = 30\n",
        "learning_rate = 1e-4\n",
        "\n",
        "INPUT_DIM = len(TEXT.vocab)\n",
        "EMBEDDING_DIM = 300\n",
        "HIDDEN_DIM = 128\n",
        "OUTPUT_DIM = 1\n",
        "#N_LAYERS = 2\n",
        "BIDIRECTIONAL = True\n",
        "DROPOUT = 0.1\n",
        "PAD_IDX = TEXT.vocab.stoi[TEXT.pad_token] # padding\n",
        "BATCH_SIZE = 8"
      ],
      "execution_count": null,
      "outputs": []
    },
    {
      "cell_type": "code",
      "metadata": {
        "id": "gtM0FkIBvpIm"
      },
      "source": [
        "device = torch.device('cuda' if torch.cuda.is_available() else 'cpu')\n",
        "print(device)\n",
        "# keep in mind the sort_key option \n",
        "train_iterator, valid_iterator, test_iterator = data.BucketIterator.splits(\n",
        "    (train_data, valid_data, test_data), sort_key=lambda x: len(x.Review_text),sort_within_batch = True,\n",
        "    batch_size=BATCH_SIZE,\n",
        "    device=device)"
      ],
      "execution_count": null,
      "outputs": []
    },
    {
      "cell_type": "code",
      "metadata": {
        "id": "9s65OXqhhQXW"
      },
      "source": [
        "class LSTM_net(nn.Module):\n",
        "    def __init__(self, vocab_size, embedding_dim, hidden_dim, output_dim,\n",
        "                 bidirectional, dropout, pad_idx):\n",
        "        \n",
        "        super().__init__()\n",
        "        \n",
        "        self.embedding = nn.Embedding(vocab_size, embedding_dim, padding_idx = pad_idx)\n",
        "        \n",
        "        self.rnn = nn.LSTM(embedding_dim, \n",
        "                           hidden_dim, \n",
        "                           bidirectional=bidirectional, \n",
        "                           dropout=dropout)\n",
        "        \n",
        "        self.fc1 = nn.Linear(hidden_dim * 2, hidden_dim)\n",
        "        \n",
        "        self.fc2 = nn.Linear(hidden_dim, 1)\n",
        "        \n",
        "        self.dropout = nn.Dropout(dropout)\n",
        "        \n",
        "    def forward(self, text, text_lengths):\n",
        "        \n",
        "        # text = [sent len, batch size]\n",
        "        \n",
        "        embedded = self.embedding(text)\n",
        "        \n",
        "        # embedded = [sent len, batch size, emb dim]\n",
        "        \n",
        "        #pack sequence\n",
        "        packed_embedded = nn.utils.rnn.pack_padded_sequence(embedded, text_lengths)\n",
        "        \n",
        "        packed_output, (hidden, cell) = self.rnn(packed_embedded)\n",
        "        \n",
        "        #unpack sequence\n",
        "        # output, output_lengths = nn.utils.rnn.pad_packed_sequence(packed_output)\n",
        "\n",
        "        # output = [sent len, batch size, hid dim * num directions]\n",
        "        # output over padding tokens are zero tensors\n",
        "        \n",
        "        # hidden = [num layers * num directions, batch size, hid dim]\n",
        "        # cell = [num layers * num directions, batch size, hid dim]\n",
        "        \n",
        "        # concat the final forward (hidden[-2,:,:]) and backward (hidden[-1,:,:]) hidden layers\n",
        "        # and apply dropout\n",
        "        \n",
        "        hidden = self.dropout(torch.cat((hidden[-2,:,:], hidden[-1,:,:]), dim = 1))\n",
        "        output = self.fc1(hidden)\n",
        "        output = self.dropout(self.fc2(output))\n",
        "                \n",
        "        #hidden = [batch size, hid dim * num directions]\n",
        "            \n",
        "        return output"
      ],
      "execution_count": null,
      "outputs": []
    },
    {
      "cell_type": "code",
      "metadata": {
        "id": "wSDLbE8lhafm"
      },
      "source": [
        "#creating instance of our LSTM_net class\n",
        "\n",
        "model = LSTM_net(INPUT_DIM, \n",
        "            EMBEDDING_DIM, \n",
        "            HIDDEN_DIM, \n",
        "            OUTPUT_DIM,  \n",
        "            BIDIRECTIONAL, \n",
        "            DROPOUT, \n",
        "            PAD_IDX)"
      ],
      "execution_count": null,
      "outputs": []
    },
    {
      "cell_type": "code",
      "metadata": {
        "id": "aEZNYmFIigH3"
      },
      "source": [
        "pretrained_embeddings = TEXT.vocab.vectors\n",
        "\n",
        "print(pretrained_embeddings.shape)\n",
        "model.embedding.weight.data.copy_(pretrained_embeddings)"
      ],
      "execution_count": null,
      "outputs": []
    },
    {
      "cell_type": "code",
      "metadata": {
        "id": "JUb6AC7Ji-jO"
      },
      "source": [
        "#  to initiaise padded to zeros\n",
        "model.embedding.weight.data[PAD_IDX] = torch.zeros(EMBEDDING_DIM)\n",
        "\n",
        "print(model.embedding.weight.data)"
      ],
      "execution_count": null,
      "outputs": []
    },
    {
      "cell_type": "code",
      "metadata": {
        "id": "vHB2lWf6i__v"
      },
      "source": [
        "model.to(device) #CNN to GPU\n",
        "\n",
        "\n",
        "# Loss and optimizer\n",
        "criterion = nn.BCEWithLogitsLoss()\n",
        "\n",
        "optimizer = torch.optim.AdamW(model.parameters(), lr=learning_rate)"
      ],
      "execution_count": null,
      "outputs": []
    },
    {
      "cell_type": "code",
      "metadata": {
        "id": "SEwp_gS2jBT-"
      },
      "source": [
        "def binary_accuracy(preds, y):\n",
        "    \"\"\"\n",
        "    Returns accuracy per batch, i.e. if you get 8/10 right, this returns 0.8, NOT 8\n",
        "    \"\"\"\n",
        "\n",
        "    #round predictions to the closest integer\n",
        "    rounded_preds = torch.round(torch.sigmoid(preds))\n",
        "    correct = (rounded_preds == y).float() #convert into float for division \n",
        "    acc = correct.sum() / len(correct)\n",
        "    return acc"
      ],
      "execution_count": null,
      "outputs": []
    },
    {
      "cell_type": "code",
      "metadata": {
        "id": "k54_z7G6jCtE"
      },
      "source": [
        "# training function \n",
        "def train(model, iterator):\n",
        "    \n",
        "    epoch_loss = 0\n",
        "    epoch_acc = 0\n",
        "    \n",
        "    model.train()\n",
        "    bar = pyprind.ProgBar(len(iterator), bar_char='█')\n",
        "    for batch in iterator:\n",
        "        \n",
        "        text, text_lengths = batch.Review_text\n",
        "        \n",
        "        optimizer.zero_grad()\n",
        "        predictions = model(text, text_lengths).squeeze(1)\n",
        "        loss = criterion(predictions, batch.numeric_Label)\n",
        "        acc = binary_accuracy(predictions, batch.numeric_Label)\n",
        "\n",
        "        loss.backward()\n",
        "        optimizer.step()\n",
        "        \n",
        "        epoch_loss += loss.item()\n",
        "        epoch_acc += acc.item()\n",
        "        \n",
        "        bar.update()\n",
        "    return epoch_loss / len(iterator), epoch_acc / len(iterator)"
      ],
      "execution_count": null,
      "outputs": []
    },
    {
      "cell_type": "code",
      "metadata": {
        "id": "Dz19pDSbjEFQ"
      },
      "source": [
        "def evaluate(model, iterator,mode):\n",
        "    \n",
        "    epoch_acc = 0\n",
        "    epoch_loss=0\n",
        "    preds,labels=[],[]\n",
        "    model.eval()\n",
        "    \n",
        "    with torch.no_grad():\n",
        "        bar = pyprind.ProgBar(len(iterator), bar_char='█')\n",
        "        for batch in iterator:\n",
        "            \n",
        "            text, text_lengths = batch.Review_text\n",
        "            predictions = model(text, text_lengths).squeeze(1)\n",
        "            acc = binary_accuracy(predictions, batch.numeric_Label)\n",
        "            loss = criterion(predictions, batch.numeric_Label)\n",
        "            \n",
        "            rounded_preds = torch.round(torch.sigmoid(predictions))\n",
        "            logits = rounded_preds.detach().cpu().numpy()\n",
        "            label_ids = batch.numeric_Label.to('cpu').numpy()\n",
        "            \n",
        "            preds.append(logits)\n",
        "            labels.append(label_ids)\n",
        "\n",
        "            epoch_acc += acc.item()\n",
        "            epoch_loss+=loss.item()\n",
        "            bar.update()\n",
        "    if mode ==\"validation\":        \n",
        "      return epoch_acc / len(iterator),epoch_loss / len(iterator)\n",
        "    if mode ==\"testing\":\n",
        "      return epoch_acc / len(iterator),epoch_loss / len(iterator),preds,labels"
      ],
      "execution_count": null,
      "outputs": []
    },
    {
      "cell_type": "code",
      "metadata": {
        "id": "4u1w2vk8jFP-"
      },
      "source": [
        "t = time.time()\n",
        "loss=[]\n",
        "acc=[]\n",
        "val_acc=[]\n",
        "val_loss=[]\n",
        "same_loss_count=0\n",
        "prev_loss = 0\n",
        "for epoch in range(num_epochs):\n",
        "    print(f'Epoch Number: {epoch}\\n')\n",
        "    train_loss, train_acc = train(model, train_iterator)\n",
        "    valid_acc,valid_loss = evaluate(model, valid_iterator,\"validation\")\n",
        "\n",
        "    print(f'\\tTrain Loss: {train_loss:.3f} | Train Acc: {train_acc*100:.2f}%')\n",
        "    print(f'\\tVal. Loss: {valid_loss:.3f} | Val. Acc: {valid_acc*100:.2f}%')\n",
        "    \n",
        "    #print(f'\\t Val. Acc: {valid_acc*100:.2f}%')\n",
        "    \n",
        "    loss.append(train_loss)\n",
        "    acc.append(train_acc)\n",
        "    val_acc.append(valid_acc)\n",
        "    val_loss.append(valid_loss)\n",
        "    \n",
        "    if np.abs(prev_loss-valid_loss)<0.001:\n",
        "      same_loss_count+=1\n",
        "\n",
        "    prev_loss=valid_loss\n",
        "    if same_loss_count == 3:\n",
        "      break\n",
        "      \n",
        "print(f'time:{time.time()-t:.3f}')"
      ],
      "execution_count": null,
      "outputs": []
    },
    {
      "cell_type": "code",
      "metadata": {
        "id": "B7ffMDNrxAqw"
      },
      "source": [
        "plt.xlabel(\"runs\")\n",
        "plt.ylabel(\"normalised measure of loss/accuracy\")\n",
        "x_len=list(range(len(val_loss)))\n",
        "plt.axis([0, max(x_len), 0, 1])\n",
        "plt.title('result of LSTM')\n",
        "loss=np.asarray(loss)/max(loss)\n",
        "plt.plot(x_len, loss, 'r+',label=\"loss\")\n",
        "plt.plot(x_len, acc, 'b.', label=\"accuracy\")\n",
        "plt.plot(x_len, val_acc, 'g.', label=\"val_accuracy\")\n",
        "plt.plot(x_len, val_loss, 'g+', label=\"val_loss\")\n",
        "\n",
        "plt.legend(bbox_to_anchor=(1.05, 1), loc=2, borderaxespad=0.2)\n",
        "plt.show"
      ],
      "execution_count": null,
      "outputs": []
    },
    {
      "cell_type": "code",
      "metadata": {
        "id": "46ZsNjmvogTU"
      },
      "source": [
        "test_acc,test_loss,preds,labels = evaluate(model, test_iterator,\"testing\")"
      ],
      "execution_count": null,
      "outputs": []
    },
    {
      "cell_type": "code",
      "metadata": {
        "id": "CXpOQhrsbQ-n"
      },
      "source": [
        "print(f'\\tTest Loss: {test_loss:.3f} | Test Acc: {test_acc*100:.2f}%')"
      ],
      "execution_count": null,
      "outputs": []
    },
    {
      "cell_type": "code",
      "metadata": {
        "id": "WxbhHS07Gkc2"
      },
      "source": [
        "preds = np.concatenate(preds)\n",
        "labels = np.concatenate(labels)\n",
        "\n",
        "prc,rec,fs = precision_score(labels,preds),recall_score(labels,preds),f1_score(labels,preds)"
      ],
      "execution_count": null,
      "outputs": []
    },
    {
      "cell_type": "code",
      "metadata": {
        "id": "ndBHajOggWD7"
      },
      "source": [
        "print(f'\\tTest Loss: {test_loss:.3f} | Test Acc: {test_acc*100:.2f}% | Precision: {prc*100:.2f}% | Recall: {rec*100:.2f}% | F1-Score: {fs*100:.2f}%')"
      ],
      "execution_count": null,
      "outputs": []
    }
  ]
}